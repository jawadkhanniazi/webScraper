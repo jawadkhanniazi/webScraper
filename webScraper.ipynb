{
 "cells": [
  {
   "cell_type": "code",
   "execution_count": 47,
   "metadata": {},
   "outputs": [],
   "source": [
    "from bs4 import BeautifulSoup as soup\n",
    "from urllib.request import urlopen as uReq"
   ]
  },
  {
   "cell_type": "code",
   "execution_count": 48,
   "metadata": {},
   "outputs": [],
   "source": [
    "my_url = 'https://www.flipkart.com/search?q=iphone&otracker=search&otracker1=search&marketplace=FLIPKART&as-show=on&as=off'"
   ]
  },
  {
   "cell_type": "code",
   "execution_count": 49,
   "metadata": {},
   "outputs": [],
   "source": [
    "uClient = uReq(my_url)\n",
    "page_html = uClient.read()\n",
    "uClient.close()"
   ]
  },
  {
   "cell_type": "code",
   "execution_count": 50,
   "metadata": {},
   "outputs": [
    {
     "name": "stdout",
     "output_type": "stream",
     "text": [
      "24\n"
     ]
    }
   ],
   "source": [
    "page_soup = soup(page_html, \"html.parser\")\n",
    "containers = page_soup.findAll(\"div\",{\"class\": \"_3O0U0u\"})\n",
    "print(len(containers))\n",
    "#print(soup.prettify(containers[0]))"
   ]
  },
  {
   "cell_type": "code",
   "execution_count": 51,
   "metadata": {},
   "outputs": [
    {
     "name": "stdout",
     "output_type": "stream",
     "text": [
      "Apple iPhone SE (Black, 64 GB)\n"
     ]
    }
   ],
   "source": [
    "container = containers[0]\n",
    "print(container.div.img[\"alt\"])"
   ]
  },
  {
   "cell_type": "code",
   "execution_count": 52,
   "metadata": {},
   "outputs": [
    {
     "name": "stdout",
     "output_type": "stream",
     "text": [
      "₹35,999₹42,50015% offNo Cost EMIUpto ₹17,500 Off on Exchange\n"
     ]
    }
   ],
   "source": [
    "price = container.findAll(\"div\", {\"class\":\"col col-5-12 _2o7WAb\"})\n",
    "print(price[0].text)"
   ]
  },
  {
   "cell_type": "code",
   "execution_count": 53,
   "metadata": {},
   "outputs": [
    {
     "name": "stdout",
     "output_type": "stream",
     "text": [
      "4.5\n"
     ]
    }
   ],
   "source": [
    "ratings = container.findAll(\"div\", {\"class\":\"hGSR34\"})\n",
    "print(ratings[0].text)"
   ]
  },
  {
   "cell_type": "code",
   "execution_count": 54,
   "metadata": {},
   "outputs": [
    {
     "data": {
      "text/plain": [
       "29"
      ]
     },
     "execution_count": 54,
     "metadata": {},
     "output_type": "execute_result"
    }
   ],
   "source": [
    "file = \"products.csv\"\n",
    "f = open(file, \"w\")\n",
    "headers = \"Product_Name,Pricing,Ratings\\n\"\n",
    "f.write(headers)\n"
   ]
  },
  {
   "cell_type": "code",
   "execution_count": 55,
   "metadata": {},
   "outputs": [
    {
     "name": "stdout",
     "output_type": "stream",
     "text": [
      "Apple iPhone SE (Black| 64 GB),Rs.35999,4.5\n",
      "\n",
      "Apple iPhone SE (White| 64 GB),Rs.35999,4.5\n",
      "\n",
      "Apple iPhone XR (White| 64 GB),Rs.44999,4.6\n",
      "\n",
      "Apple iPhone SE (Red| 64 GB),Rs.35999,4.5\n",
      "\n",
      "Apple iPhone XR (Black| 128 GB),Rs.49999,4.6\n",
      "\n",
      "Apple iPhone XR (White| 128 GB),Rs.49999,4.6\n",
      "\n",
      "Apple iPhone XR (Black| 64 GB),Rs.44999,4.6\n",
      "\n",
      "Apple iPhone SE (Black| 128 GB),Rs.41999,4.5\n",
      "\n",
      "Apple iPhone 7 (Black| 32 GB),Rs.28999,4.5\n",
      "\n",
      "Apple iPhone SE (Red| 128 GB),Rs.41999,4.5\n",
      "\n",
      "Apple iPhone XR ((PRODUCT)RED| 64 GB),Rs.44999,4.6\n",
      "\n",
      "Apple iPhone SE (White| 128 GB),Rs.41999,4.5\n",
      "\n",
      "Apple iPhone XR (Blue| 64 GB),Rs.44999,4.6\n",
      "\n",
      "Apple iPhone XR ((PRODUCT)RED| 128 GB),Rs.49999,4.6\n",
      "\n",
      "Apple iPhone XR (Coral| 64 GB),Rs.44999,4.6\n",
      "\n",
      "Apple iPhone XR (Blue| 128 GB),Rs.49999,4.6\n",
      "\n",
      "Apple iPhone 11 (Black| 64 GB),Rs.66990,4.7\n",
      "\n",
      "Apple iPhone XR (Coral| 128 GB),Rs.49999,4.6\n",
      "\n",
      "Apple iPhone 11 (Green| 128 GB),Rs.72990,4.7\n",
      "\n",
      "Apple iPhone 11 (White| 64 GB),Rs.66990,4.7\n",
      "\n",
      "Apple iPhone 7 (Silver| 32 GB),Rs.28999,4.5\n",
      "\n",
      "Apple iPhone 11 (White| 128 GB),Rs.72990,4.7\n",
      "\n",
      "Apple iPhone 11 (Black| 128 GB),Rs.72990,4.7\n",
      "\n",
      "Apple iPhone 7 Plus (Black| 32 GB),Rs.36999,4.5\n",
      "\n"
     ]
    }
   ],
   "source": [
    "for container in containers:\n",
    "    product_name = container.div.img[\"alt\"]\n",
    "    price_container = container.findAll(\"div\",{\"class\":\"col col-5-12 _2o7WAb\"})\n",
    "    price = price_container[0].text.strip()\n",
    "    rating_container = container.findAll(\"div\", {\"class\":\"hGSR34\"})\n",
    "    rating = rating_container[0].text\n",
    "    #print(\"product name::\"+product_name)\n",
    "    #print(\"price:\"+price)\n",
    "    #print(\"rating::\"+rating)\n",
    "    trim_price = ''.join(price.split(','))\n",
    "    rm_rupee = trim_price.split(\"₹\")\n",
    "    add_rs_price = \"Rs.\"+rm_rupee[1]\n",
    "    split_price = add_rs_price.split('E')\n",
    "    final_price = split_price[0]\n",
    "    split_rating = rating.split(\" \")\n",
    "    final_rating = split_rating[0]\n",
    "    print(product_name.replace(\",\",\"|\")+ \",\"+final_price+\",\"+final_rating+\"\\n\")\n",
    "    f.write(product_name.replace(\",\",\"|\")+ \",\"+final_price+\",\"+final_rating+\"\\n\")\n",
    "f.close()"
   ]
  },
  {
   "cell_type": "code",
   "execution_count": 46,
   "metadata": {},
   "outputs": [],
   "source": []
  },
  {
   "cell_type": "code",
   "execution_count": null,
   "metadata": {},
   "outputs": [],
   "source": []
  }
 ],
 "metadata": {
  "kernelspec": {
   "display_name": "Python 3",
   "language": "python",
   "name": "python3"
  },
  "language_info": {
   "codemirror_mode": {
    "name": "ipython",
    "version": 3
   },
   "file_extension": ".py",
   "mimetype": "text/x-python",
   "name": "python",
   "nbconvert_exporter": "python",
   "pygments_lexer": "ipython3",
   "version": "3.7.3"
  }
 },
 "nbformat": 4,
 "nbformat_minor": 2
}

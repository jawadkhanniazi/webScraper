{
 "cells": [
  {
   "cell_type": "code",
   "execution_count": 1,
   "metadata": {},
   "outputs": [],
   "source": [
    "from selenium import webdriver\n",
    "url = 'https://www.daraz.pk/catalog/?q=samsung&_keyori=ss&from=input&spm=a2a0e.home.search.go.35e34937NC0Gxh'"
   ]
  },
  {
   "cell_type": "code",
   "execution_count": 5,
   "metadata": {},
   "outputs": [],
   "source": [
    "driver = webdriver.Chrome(executable_path='C:/Users/Jamshaid Computer/web scraper/chromedriver.exe')\n",
    "driver.get(url)\n",
    "videos = driver.find_elements_by_class_name('c3e8SH c2mzns')\n",
    "\n",
    "for video in videos:\n",
    "    test = video.find_elements_by_class_name('c13VH6').text\n",
    "    name= video.find_element_by_xpath('.//*[@id=\"root\"]/div/div[3]/div[1]/div/div[1]/div[2]/div[1]/div/div/div[2]/div[2]').text\n",
    "    price = video.find_element_by_xpath('.//*[@id=\"root\"]/div/div[3]/div[1]/div/div[1]/div[2]/div[1]/div/div/div[2]/div[3]/span').text\n",
    "    rating = video.find_element_by_xpath('.//*[@id=\"root\"]/div/div[3]/div[1]/div/div[1]/div[2]/div[1]/div/div/div[2]/div[5]').text\n",
    "    print(name,price,rating)"
   ]
  },
  {
   "cell_type": "code",
   "execution_count": null,
   "metadata": {},
   "outputs": [],
   "source": []
  }
 ],
 "metadata": {
  "kernelspec": {
   "display_name": "Python 3",
   "language": "python",
   "name": "python3"
  },
  "language_info": {
   "codemirror_mode": {
    "name": "ipython",
    "version": 3
   },
   "file_extension": ".py",
   "mimetype": "text/x-python",
   "name": "python",
   "nbconvert_exporter": "python",
   "pygments_lexer": "ipython3",
   "version": "3.7.3"
  }
 },
 "nbformat": 4,
 "nbformat_minor": 2
}
